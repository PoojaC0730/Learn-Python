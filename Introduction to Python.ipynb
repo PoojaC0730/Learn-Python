{
 "cells": [
  {
   "cell_type": "markdown",
   "metadata": {},
   "source": [
    "In this tutorial we are going to discuss about Python programming language. We will write our first python program and learn about keywords and identifiers in python. \n",
    "\n",
    "## Introduction to Python\n",
    "\n",
    "Python is a high-level general purpose programming language. It is an object oriented programming laguage and provides features of object oriented programming to make programs more readable and easy to handle. <br>\n",
    "Python program can be written in an interactive session using IPython or by directly executing Python scripts – text files that end in the extension .py – using the Python interpreter.\n",
    "\n",
    "Features of python language: <br>\n",
    "- One distictive feature of python is that it is an interpreted language. <br>\n",
    "- Python has simple program structure and few reserved keywords with simple and clearly specific syntax. <br>\n",
    "- Python program structure is simple and easy which makes it easy to read and understand. <br>\n",
    "- Python has very portable freely available library and they are platform compatible. <br>\n",
    "- Easy for debugging and testing. <br>\n",
    "- Python supports GUI applications that can be created and ported to many system calls, libraries and windows systems. <br>\n",
    "- As compared to shell scripting, Python provides a better structure and support for large programs. <br>\n",
    "\n",
    "Python language has many such useful features which makes it a user friendly and easy to use programming language <br>\n",
    "\n",
    "Let's write our first python program. In python for printing any output we use print() method. Write the code shown below in your python IDE and run the program to see the output.\n"
   ]
  },
  {
   "cell_type": "code",
   "execution_count": 1,
   "metadata": {},
   "outputs": [
    {
     "name": "stdout",
     "output_type": "stream",
     "text": [
      "Hello world !!!\n"
     ]
    }
   ],
   "source": [
    "print(\"Hello world !!!\")"
   ]
  },
  {
   "cell_type": "markdown",
   "metadata": {},
   "source": [
    "### Python Keywords and Identifiers\n",
    "\n",
    "#### Keywords in Python\n",
    "If you are familiar with coding in general you would know that there are some reserved words in a programming language. These reserved words are also called keywords. These keywords have a special meaning and they are used for special purposes in Python programming language. These keywords cannot be used as name for a variable, function, class or as any other identifier. They are used in syntax and structure of a python program. Python is a case-sensitive language which means *Name* and *name* are two different identifiers in python. <br>\n",
    "<br>\n",
    "<br>\n",
    "<br>\n",
    "<br>\n",
    "\n",
    "\n",
    "Following is a list of common keywords used in python.\n",
    "\n",
    "| | | | |\n",
    "|-|-|-|-|\n",
    "|False |  class |    from  |   or  |\n",
    "|None   |  continue   |  global |    pass  |\n",
    "|True  | def   |   if |   raise |\n",
    "|and   |    del |  import  | return |\n",
    "|as   |  elif |   in  |   try  |\n",
    "|assert |   else  |  is  |  while  |\n",
    "|async | except  | lambda |  with  |\n",
    "|await |  finally  |  nonlocal  | yield  |\n",
    "|break |  for  |  not  ||\n",
    "\n",
    "\n",
    "If you want to list all the keywords available using python then use the below given code. "
   ]
  },
  {
   "cell_type": "code",
   "execution_count": 2,
   "metadata": {},
   "outputs": [
    {
     "name": "stdout",
     "output_type": "stream",
     "text": [
      "['False', 'None', 'True', 'and', 'as', 'assert', 'async', 'await', 'break', 'class', 'continue', 'def', 'del', 'elif', 'else', 'except', 'finally', 'for', 'from', 'global', 'if', 'import', 'in', 'is', 'lambda', 'nonlocal', 'not', 'or', 'pass', 'raise', 'return', 'try', 'while', 'with', 'yield']\n"
     ]
    }
   ],
   "source": [
    "import keyword\n",
    "print(keyword.kwlist)"
   ]
  },
  {
   "cell_type": "markdown",
   "metadata": {},
   "source": [
    "In the above python code, *import* is a python keyword used to include and use a python module. And keyword is a python module which contains a list of all keywords available in python. We will get to learn more about import and python modules in upcoming tutorials. <br>\n",
    "\n",
    "Looking at all the keywords and trying to know their meaning and use can be a bit overwhelming. We will get to know the meaning and usage of these keywords as we continue learning.\n",
    "\n",
    "#### Identifiers\n",
    "An identifier is name given to different entities like class, functions, variables, etc. It helps to recognize and differentiate between one entity to another. <br>\n",
    "There are certain rules to write identifiers in python. They are as follows: \n",
    "1. Identifier can be a combination of lowercase (a-z) or uppercase (A-Z) alphabets, digits(0-9) or an underscore ( _ ). Valid examples for identifier names are *myName*, *number_1*, *get_value*.\n",
    "2. An identifier cannot start with a digit. *1number* is invalid, but *number1* is a valid name.\n",
    "3. Keywords cannot be used as identifiers."
   ]
  },
  {
   "cell_type": "code",
   "execution_count": 3,
   "metadata": {},
   "outputs": [
    {
     "ename": "SyntaxError",
     "evalue": "invalid syntax (<ipython-input-3-40eaab3ef888>, line 1)",
     "output_type": "error",
     "traceback": [
      "\u001b[1;36m  File \u001b[1;32m\"<ipython-input-3-40eaab3ef888>\"\u001b[1;36m, line \u001b[1;32m1\u001b[0m\n\u001b[1;33m    global = 23\u001b[0m\n\u001b[1;37m           ^\u001b[0m\n\u001b[1;31mSyntaxError\u001b[0m\u001b[1;31m:\u001b[0m invalid syntax\n"
     ]
    }
   ],
   "source": [
    "global = 23"
   ]
  },
  {
   "cell_type": "markdown",
   "metadata": {},
   "source": [
    "4. We cannot use special symbols !,@,#,$,%,etc. in identifier."
   ]
  },
  {
   "cell_type": "code",
   "execution_count": 4,
   "metadata": {},
   "outputs": [
    {
     "ename": "SyntaxError",
     "evalue": "invalid syntax (<ipython-input-4-daf44dfc3575>, line 1)",
     "output_type": "error",
     "traceback": [
      "\u001b[1;36m  File \u001b[1;32m\"<ipython-input-4-daf44dfc3575>\"\u001b[1;36m, line \u001b[1;32m1\u001b[0m\n\u001b[1;33m    user@$ = 274\u001b[0m\n\u001b[1;37m         ^\u001b[0m\n\u001b[1;31mSyntaxError\u001b[0m\u001b[1;31m:\u001b[0m invalid syntax\n"
     ]
    }
   ],
   "source": [
    "user@$ = 274"
   ]
  },
  {
   "cell_type": "markdown",
   "metadata": {},
   "source": [
    "5. An identifier can be of any length."
   ]
  },
  {
   "cell_type": "code",
   "execution_count": 5,
   "metadata": {},
   "outputs": [
    {
     "name": "stdout",
     "output_type": "stream",
     "text": [
      "This is a sentence\n"
     ]
    }
   ],
   "source": [
    "This_is_a_very_long_identifier_name = \"This is a sentence\"\n",
    "print(This_is_a_very_long_identifier_name)"
   ]
  },
  {
   "cell_type": "markdown",
   "metadata": {},
   "source": [
    "We need to follow these rules while naming variables, functions, classes and other objects that we use in our python program. <br>\n",
    "\n",
    "In this tutorial, we learnt about features of python programming language, you wrote your first python program, learnt about keywords in python, identifiers and naming convention for identifiers in python."
   ]
  }
 ],
 "metadata": {
  "kernelspec": {
   "display_name": "Python 3 (ipykernel)",
   "language": "python",
   "name": "python3"
  },
  "language_info": {
   "codemirror_mode": {
    "name": "ipython",
    "version": 3
   },
   "file_extension": ".py",
   "mimetype": "text/x-python",
   "name": "python",
   "nbconvert_exporter": "python",
   "pygments_lexer": "ipython3",
   "version": "3.7.3"
  }
 },
 "nbformat": 4,
 "nbformat_minor": 2
}
