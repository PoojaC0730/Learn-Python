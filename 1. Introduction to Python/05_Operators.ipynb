{
 "cells": [
  {
   "cell_type": "markdown",
   "metadata": {},
   "source": [
    "In this tutorial, I am going to discuss about various types of operators in python, their use and precedence in an expression. \n",
    "## Operators\n",
    "In every programming language, we have a set of operators. Operators are specifically the special characters which can manipulate the value of operands. Operands are the values or variables which are getting operated on by the operators.\n",
    "<br> \n",
    "### Types of Operators\n",
    "Python language supports the following types of operators : <br>\n",
    "- Arithmetic Operators\n",
    "- Comparison (Relational) operators\n",
    "- Assignment Operators\n",
    "- Bitwise Operators\n",
    "- Logical Operators\n",
    "- Membership Operators\n",
    "- Identity Operators <br>\n",
    "Let's learn about these operators one by one. "
   ]
  },
  {
   "cell_type": "markdown",
   "metadata": {},
   "source": [
    "### Arithmetic Operators \n",
    "These are the simple arithmetic operators which are used for number manipulations. The following table shows use of these operators with example. Assuming a = 15 and b = 3 then -\n",
    "\n",
    "\n",
    "| Operator      | Description                     | Example |\n",
    "|:---------------------:|:-------------------------------:|:-----------:|\n",
    "| +      | Addition  | 13 + 5 = 18  |\n",
    "| -      | Subtract | 14 - 2 = 12 |\n",
    "| *      | Multiplication  | 9 * 5 = 45  |\n",
    "| /      |  Division   | 25 / 5 = 5  |\n",
    "| %      | Remainder from Integer division (Modulo)  | 44 % 4 = 0 |\n",
    "| **     | Raise to power (Exponentiation) | 2 ** 3 = 8, 2 raised to the power of 3 |\n",
    "| //     | Integer Division | 16 // 2 = 8 |\n",
    "\n",
    "\n",
    "<br>\n",
    " Let's see some examples of these operators : "
   ]
  },
  {
   "cell_type": "code",
   "execution_count": 1,
   "metadata": {},
   "outputs": [
    {
     "name": "stdout",
     "output_type": "stream",
     "text": [
      "Variable a = 42, Variable b = 10\n",
      "Addition: a + b =  52\n",
      "Subtraction: a - b =  32\n",
      "Multiplication: a * b =  420\n",
      "Division: a / b =  4.2\n",
      "Modulo: a % b =  2\n",
      "Integer Division: a // b =  4\n",
      "Exponent: 3 ** 4 =  81\n"
     ]
    }
   ],
   "source": [
    "a = 42\n",
    "b = 10\n",
    "c = 0\n",
    "\n",
    "print(\"Variable a = {}, Variable b = {}\".format(a, b) )\n",
    "\n",
    "# Addition\n",
    "c  = a + b  \n",
    "print(\"Addition: a + b = \",c)\n",
    "\n",
    "#Subtraction\n",
    "c = a - b  \n",
    "print(\"Subtraction: a - b = \",c)\n",
    "\n",
    "#Multiplication\n",
    "c = a * b  \n",
    "print(\"Multiplication: a * b = \",c)\n",
    "\n",
    "#Division\n",
    "c = a / b  \n",
    "print(\"Division: a / b = \",c)\n",
    "\n",
    "#Modulo\n",
    "c = a % b  \n",
    "print(\"Modulo: a % b = \",c)\n",
    "\n",
    "#Integer Division\n",
    "c = a // b \n",
    "print(\"Integer Division: a // b = \",c)\n",
    "\n",
    "#Exponent\n",
    "print(\"Exponent: 3 ** 4 = \",3 ** 4)\n"
   ]
  },
  {
   "cell_type": "markdown",
   "metadata": {},
   "source": [
    "### Comparison(Relational) Operators \n",
    "These operators perform comparison among the operands on either side and decide the relation among them, hence they are also called relational operators. <br> <br> \n",
    "Assume variable a holds value 5 and b holds value 2 then - \n",
    "\n",
    "| Operator      | Description                     | Example |\n",
    "|:---------------------:|:-------------------------------:|:-----------:|\n",
    "| ==    | Is equal to   | (5 == 8) is false  |\n",
    "| !=    | Is not equal to  | (3 != 6) is true|\n",
    "| >  | Is greater than  | (9 > 4) is true  |\n",
    "| <  | Is less than | (5 < 2) is false  |\n",
    "| >= | Is greater than or equal to | (7 >= 1) is true |\n",
    "| <= | Is less than or equal to | (5 <= 13) is false |\n",
    "\n",
    "\n",
    "Let's see some examples:"
   ]
  },
  {
   "cell_type": "code",
   "execution_count": 2,
   "metadata": {},
   "outputs": [
    {
     "name": "stdout",
     "output_type": "stream",
     "text": [
      "Variable a = 30, Variable b = 48\n",
      "a == b ? :  False\n",
      "a != b ? :  True\n",
      "Is a > b ? :  False\n",
      "Is a < b ? :  True\n",
      "Is a >= b ? :  False\n",
      "Is a <= b ? :  True\n"
     ]
    }
   ],
   "source": [
    "a = 30\n",
    "b = 48\n",
    "\n",
    "print(\"Variable a = {}, Variable b = {}\".format(a, b) )\n",
    "\n",
    "c = a == b \n",
    "print(\"a == b ? : \",c)\n",
    "\n",
    "c = a != b\n",
    "print(\"a != b ? : \",c)\n",
    "\n",
    "c = a > b\n",
    "print(\"Is a > b ? : \",c)\n",
    "\n",
    "c = a < b\n",
    "print(\"Is a < b ? : \",c)\n",
    "\n",
    "c = a >= b\n",
    "print(\"Is a >= b ? : \",c)\n",
    "\n",
    "c = a <= b\n",
    "print(\"Is a <= b ? : \",c)\n"
   ]
  },
  {
   "cell_type": "markdown",
   "metadata": {},
   "source": [
    "Generally, these relational operators are used to complete flow of a program by using them in control statements. We are going to learn about them later."
   ]
  },
  {
   "cell_type": "markdown",
   "metadata": {},
   "source": [
    "### Assignment Operators \n",
    "As the name suggests these operators are used for assignment purpose. The following table shows the use of these operators with example.\n",
    "\n",
    "Consider a, b and c as three numeric variables.\n",
    "\n",
    "| Operator      | Description                     | Example |\n",
    "|:---------------------:|:-------------------------------:|:-----------:|\n",
    "| =   | Simple Assignment   | c = a + b assigns value of a + b to c   |\n",
    "| +=  | Assignment with addition  | c += a is equivalent to  c = c + a |\n",
    "| -=  | Assignment with subtraction | c -= a is equivalent to c = c - a  |\n",
    "| \\*= | Assignment with multiplication  | c \\*= a is equivalent to  c = c \\* a  |\n",
    "| /=  | Assignment with division | c /= a is equivalent to c = c / a |\n",
    "| %= | Assignment with Modulo | c %= a is equivalent to c = c % a |\n",
    "| \\*\\*= | Assignment with Exponentiation  | c \\*\\*= a is equivalent to c = c \\*\\* a |\n",
    "| //= |  Assignment with Integer division| c //= a is equivalent to c = c // a |\n",
    "\n",
    "Let's see some examples : "
   ]
  },
  {
   "cell_type": "code",
   "execution_count": 15,
   "metadata": {},
   "outputs": [
    {
     "name": "stdout",
     "output_type": "stream",
     "text": [
      "Variable a = 42, Variable b = 10\n",
      "Addition: a +=b or a + b =  52\n",
      "Subtraction: a -= b or a - b =  42\n",
      "Multiplication: a *= b or a * b =  420\n",
      "Division: a /= b or a / b =  42.0\n",
      "Modulo: a %= b or a % b =  2.0\n",
      "Integer Division: 14 //= 3 is 4 \n",
      "Exponent: 2 **= 5 is 32 \n"
     ]
    }
   ],
   "source": [
    "a = 42\n",
    "b = 10\n",
    "\n",
    "print(\"Variable a = {}, Variable b = {}\".format(a, b) )\n",
    "\n",
    "# Addition\n",
    "a += b  \n",
    "print(\"Addition: a +=b or a + b = \",a)\n",
    "\n",
    "# Subtraction\n",
    "a -= b  \n",
    "print(\"Subtraction: a -= b or a - b = \",a)\n",
    "\n",
    "# Multiplication\n",
    "a *= b  \n",
    "print(\"Multiplication: a *= b or a * b = \",a)\n",
    "\n",
    "# Division\n",
    "a /= b \n",
    "print(\"Division: a /= b or a / b = \",a)\n",
    "\n",
    "# Modulo\n",
    "a %= b  \n",
    "print(\"Modulo: a %= b or a % b = \",a)\n",
    "\n",
    "#Integer Division\n",
    "a = 14\n",
    "b = 3\n",
    "a //= b \n",
    "print(\"Integer Division: {} //= {} is {} \".format(14, 3, a))\n",
    "\n",
    "# Exponent\n",
    "a = 2\n",
    "b = 5\n",
    "a **= b  \n",
    "print(\"Exponent: {} **= {} is {} \".format(2, 5, a))"
   ]
  },
  {
   "cell_type": "markdown",
   "metadata": {},
   "source": [
    "### Python Bitwise Operator  \n",
    "Bitwise operators alter binary strings at bit level and performs bit-by-bit operation. \n",
    "\n",
    "Consider two variables a = 6 an b = 13. In binary format they will be represented as follows. <br> \n",
    "\n",
    "a = 0000 0110 <br> \n",
    "b = 0000 1101 \n",
    "\n",
    "If we wish to obtain binary representation of an integer python's built-in function bin() can be used as shown below : "
   ]
  },
  {
   "cell_type": "code",
   "execution_count": 19,
   "metadata": {},
   "outputs": [
    {
     "name": "stdout",
     "output_type": "stream",
     "text": [
      "6 : 0b110\n",
      "13 : 0b1101\n"
     ]
    }
   ],
   "source": [
    "a = 6 \n",
    "b = 13\n",
    "print(a, \":\", bin(a))\n",
    "print(b, \":\", bin(b))"
   ]
  },
  {
   "cell_type": "markdown",
   "metadata": {},
   "source": [
    "The following is a list of operators supported by python for bitwise operations: <br>\n",
    "\n",
    "| Operator      | Description                     | Example |\n",
    "|:---------------------:|:-------------------------------:|:-----------:|\n",
    "| &  | Bitwise AND (Binary AND) | (a & b) |\n",
    "| \\| | Bitwise OR (Binary OR) | (a \\| b)  |\n",
    "| ^  | Bitwise XOR (Binary XOR)  | (a ^ b) |\n",
    "| ~  | BitWise Negation (Binary One's complement)| ~a |\n",
    "| << | Binary Left shift| a << 2 (moves value of a by 2 bits to the left) |\n",
    "| >> | Binary Right shift | a >> 2 (moves value of a by 2 bits to the right) |\n",
    "\n",
    "Let's see some examples: "
   ]
  },
  {
   "cell_type": "code",
   "execution_count": 16,
   "metadata": {},
   "outputs": [
    {
     "name": "stdout",
     "output_type": "stream",
     "text": [
      "a =  5  :  0b101  and b =  12  :  0b1100\n",
      "Binary AND : a & b =  4  :  0b100\n",
      "Binary OR : a | b =  13  :  0b1101\n",
      "Binary XOR : a ^ b =  9  :  0b1001\n",
      "Binary NOT : ~a =  -6  :  -0b110\n",
      "Binary Left shift : a << 3 =  40  :  0b101000\n",
      "Binary Right shift : a >> 2 =  1  :  0b1\n"
     ]
    }
   ],
   "source": [
    "a = 5\n",
    "b = 12\n",
    "print(\"a = \",a,\" : \",bin(a),\" and b = \",b,\" : \",bin(b))\n",
    "\n",
    "c = a & b\n",
    "print(\"Binary AND : a & b = \",c,\" : \",bin(c))\n",
    "\n",
    "c = a | b\n",
    "print(\"Binary OR : a | b = \",c,\" : \",bin(c))\n",
    "\n",
    "c = a ^ b\n",
    "print(\"Binary XOR : a ^ b = \",c,\" : \",bin(c))\n",
    "\n",
    "c = ~a\n",
    "print(\"Binary NOT : ~a = \",c,\" : \",bin(c))\n",
    "\n",
    "c = a << 3\n",
    "print(\"Binary Left shift : a << 3 = \",c,\" : \",bin(c))\n",
    "\n",
    "c = a >> 2\n",
    "print(\"Binary Right shift : a >> 2 = \",c,\" : \",bin(c))"
   ]
  },
  {
   "cell_type": "markdown",
   "metadata": {},
   "source": [
    "### Python Logical Operators\n",
    "\n",
    "Following are the logical operators supported by python. \n",
    "\n",
    "| Operator      | Description                     | Example |\n",
    "|:---------------------:|:-------------------------------:|:-----------:|\n",
    "| Logical AND | If both operands are True then returns True | (True and False) is False |\n",
    "| Logical OR  | If any of the operand has value True then returns True | (True or False) is True  |\n",
    "| Logical Not | It performs negation on the operand | Not(true) is False |\n",
    "\n",
    "These logical operators are generally used in flow of control in program structure i.e. they are used to decide the flow of the program. <br>\n",
    "Let's see some examples:"
   ]
  },
  {
   "cell_type": "code",
   "execution_count": 20,
   "metadata": {},
   "outputs": [
    {
     "name": "stdout",
     "output_type": "stream",
     "text": [
      "a = True, and b = False\n",
      "a and b =  False\n",
      "a or b =  True\n",
      "not a =  False\n"
     ]
    }
   ],
   "source": [
    "a = True\n",
    "b = False\n",
    "\n",
    "print(\"a = {}, and b = {}\".format(a, b))\n",
    "print(\"a and b = \", a and b)\n",
    "print(\"a or b = \", a or b)\n",
    "print(\"not a = \", not a)"
   ]
  },
  {
   "cell_type": "markdown",
   "metadata": {},
   "source": [
    "Truth table for these operations are as given :  <br>\n",
    "\n",
    "Truth Table for AND Operator :\n",
    "\n",
    "| A      | B    | A and B |\n",
    "|:------:|:----:|:-------:|\n",
    "| True | True | True |\n",
    "| True | False | False |\n",
    "| False | True | False |\n",
    "| False | False | False |\n",
    "\n",
    "\n",
    "Truth Table for OR Operator :\n",
    "\n",
    "| A      | B    | A and B |\n",
    "|:------:|:----:|:-------:|\n",
    "| True | True | True |\n",
    "| True | False | True |\n",
    "| False | True | True |\n",
    "| False | False | False |\n",
    "\n",
    "\n",
    "Truth Table for NOT Operator :\n",
    "\n",
    "| A      | Not A | \n",
    "|:------:|:----:|\n",
    "| True | False | \n",
    "| False | True |\n"
   ]
  },
  {
   "cell_type": "markdown",
   "metadata": {},
   "source": [
    "### Membership Operators  \n",
    "Python also offers some operators are called membership operators. These are used to test whether a value or variable is present in a sequence ( like strings, list, sets, dictionary, tuples). <br> There are two membership operators as shown:\n",
    "\n",
    "| Operator      | Description                     | Example |\n",
    "|:---------------------:|:-------------------------------:|:-----------:|\n",
    "| in | If value or variable is found in the sequence then it evaluates to True  | 2 in x |\n",
    "| not in  | If value or variable is not found in the sequence then it evaluates to True  | 2 not in x  |\n",
    "\n",
    "Let's see some examples:"
   ]
  },
  {
   "cell_type": "code",
   "execution_count": 8,
   "metadata": {},
   "outputs": [
    {
     "name": "stdout",
     "output_type": "stream",
     "text": [
      "Learn in str1 ? :  True\n",
      "python in str1 ? :  False\n",
      "1 in dict1 ? :  True\n",
      "2 not in dict1 ? :  False\n",
      "one in dict1 ? :  False\n"
     ]
    }
   ],
   "source": [
    "str1 = \"Learning Python\"\n",
    "dict1 = { 1:'one', 2:'two'}\n",
    "\n",
    "print(\"Learn in str1 ? : \",'Learn' in str1)\n",
    "print(\"python in str1 ? : \",'python' in str1)  \n",
    "\n",
    "print(\"1 in dict1 ? : \", 1 in dict1)\n",
    "print(\"2 not in dict1 ? : \", 2 not in dict1)\n",
    "print(\"one in dict1 ? : \", 'one' in dict1)\n"
   ]
  },
  {
   "cell_type": "markdown",
   "metadata": {},
   "source": [
    "Observe that in above code, 'Python' is in str1 but 'python is not in str1 (as python is case-sensitive language). Similarly, 1 is a key and 'one' is value in dictionary dict1 hence 'one' in dict1 returns false."
   ]
  },
  {
   "cell_type": "markdown",
   "metadata": {},
   "source": [
    "### Identity Operators \n",
    "In python there are operators that compare memory locations of two objects. These are called identity operators. Python has two identity operators as shown below : <br>\n",
    "\n",
    "| Operator      | Description                     | Example |\n",
    "|:---------------------:|:-------------------------------:|:-----------:|\n",
    "| is | If both operands point to the same object then returns True| a is b  |\n",
    "| is not  | If both operands point to different objects then returns True | a is not b   |\n",
    "\n",
    "\n",
    "Let's see some examples : "
   ]
  },
  {
   "cell_type": "code",
   "execution_count": 9,
   "metadata": {},
   "outputs": [
    {
     "name": "stdout",
     "output_type": "stream",
     "text": [
      "a is b ? :  True\n",
      "a is c ? :  False\n",
      "b is not c ? :  True\n"
     ]
    }
   ],
   "source": [
    "a = 20\n",
    "b = 20\n",
    "print(\"a is b ? : \", a is b )\n",
    "c = 35\n",
    "print(\"a is c ? : \", a is c )\n",
    "print(\"b is not c ? : \",b is not c )"
   ]
  },
  {
   "cell_type": "markdown",
   "metadata": {},
   "source": [
    "As observed above a and b point to the same memory location thus is operator evaluating to True. We can also verify this by using id( ) function provided by python. This function returns identity(unique integer) of an object. <br>\n",
    "For example :"
   ]
  },
  {
   "cell_type": "code",
   "execution_count": 10,
   "metadata": {},
   "outputs": [
    {
     "name": "stdout",
     "output_type": "stream",
     "text": [
      "a =  20  :  140729107453344  and b =  20  :  140729107453344\n"
     ]
    }
   ],
   "source": [
    "print(\"a = \",a,\" : \",id(a),\" and b = \",b,\" : \",id(b))"
   ]
  },
  {
   "cell_type": "markdown",
   "metadata": {},
   "source": [
    "As a and b have same value i.e. 20 they point to the same memory location and thus has same unique integer assigned to them."
   ]
  },
  {
   "cell_type": "markdown",
   "metadata": {},
   "source": [
    "## Operator Precedence in Python\n",
    "In python, when we combine values, variables, operators or functions it forms an expression. And once the expression is executed the python interpreter check the validity of that expression. We have discussed about different types of expressions like *arithmetic expressions*, *string expressions*, *relational expressions*, *logical expressions* and *compound expressions*. Now we will look into how an expression is evaluated in python. <br> For example: '4 + 7' is a valid python expression with values 4 and 7 and operator '+'. But this is the simplest form of expression. An expression might contain multiple values, variables and operators then to decide the evaluation order python gives operator precedence chart which shows which operator will be evaluated first and which last. Python interpreter follows this precedence order and moves from left to right while evaluating an expression. <br> Given below is the precedence order of python operators from highest to the lowest precedence. <br>\n",
    "\n",
    "| Operator      | Description                     |\n",
    "|:---------------------:|:-------------------------------:|\n",
    "| ( ) | Parentheses | \n",
    "| ** | Exponentiation | \n",
    "| ~ + - | Bitwise not, Unary plus and Unary minus |\n",
    "| * / % // | Multiply, Divide, Modulo, Integer Division|\n",
    "| + - | Addition and Subtraction |\n",
    "| >> << | Bitwise Left-shift and Right-shift operators|\n",
    "| & | Bitwise 'AND'|\n",
    "| ^ \\| | Bitwise exclusive 'OR' and regular 'OR'|\n",
    "| <= < > >= | Comparison operators |\n",
    "| == != | Equality operators |\n",
    "| =  %=  +=  -=  /=  //=  \\*=  \\*\\*= | Assignment operators |\n",
    "| is, is not | Identity operators|\n",
    "| in, not in | Membership operators|\n",
    "| not, or, and | Logical operators |\n",
    "\n",
    "\n",
    "Examples :"
   ]
  },
  {
   "cell_type": "code",
   "execution_count": 22,
   "metadata": {},
   "outputs": [
    {
     "name": "stdout",
     "output_type": "stream",
     "text": [
      "a = 10, b = 2, c = 5\n",
      "a ** (b + c) =  10000000\n",
      "a ** b + c =  105\n"
     ]
    }
   ],
   "source": [
    "a = 10\n",
    "b = 2\n",
    "c = 5\n",
    "print(\"a = {}, b = {}, c = {}\".format(a, b, c))\n",
    "\n",
    "exp1 = a ** (b + c)\n",
    "# parentheses have highest precedence\n",
    "print(\"a ** (b + c) = \",exp1)  \n",
    "\n",
    "exp2 = a ** b + c\n",
    "# ** has higher precedence than + hence a ** b is evaluated first\n",
    "print(\"a ** b + c = \",exp2)"
   ]
  },
  {
   "cell_type": "markdown",
   "metadata": {},
   "source": [
    "As we can see in above examples, python interpreter follows the operator precedence table and moves from left to right while evaluating expressions with multiple operators. <br>\n",
    "In today's tutorial we have discussed about operators and their types. We have seen each type of operators in detail with examples and also looked at operator precedence and expression evaluation in python."
   ]
  }
 ],
 "metadata": {
  "kernelspec": {
   "display_name": "Python 3 (ipykernel)",
   "language": "python",
   "name": "python3"
  },
  "language_info": {
   "codemirror_mode": {
    "name": "ipython",
    "version": 3
   },
   "file_extension": ".py",
   "mimetype": "text/x-python",
   "name": "python",
   "nbconvert_exporter": "python",
   "pygments_lexer": "ipython3",
   "version": "3.7.3"
  }
 },
 "nbformat": 4,
 "nbformat_minor": 2
}
