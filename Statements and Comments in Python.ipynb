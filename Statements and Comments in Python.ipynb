{
 "cells": [
  {
   "cell_type": "markdown",
   "metadata": {},
   "source": [
    "In this tutorial, we will discuss about different statements and comments in Python. In every programming language there are different types of statements. Also comments are used by programmers to increase the readability of the code.\n",
    "\n",
    "## Statements in Python\n",
    "The instructions which can be executed by python interpreter are called as statements. For example, var=1 is an assignment statement. If statement, for statement, while statement,etc are kinds of statements which will be discussed further. <br>\n",
    "\n",
    "### Multi-Line Statements \n",
    "Generally statements in Python end with a new line. However, if we wish to continue the statement in multiple lines the line continuation (  \\   ) can be used to denote that a line should continue even after newline. For example - "
   ]
  },
  {
   "cell_type": "code",
   "execution_count": null,
   "metadata": {},
   "outputs": [],
   "source": [
    "Total_value = value_one + \\\n",
    "              value_two + \\\n",
    "              value_three"
   ]
  },
  {
   "cell_type": "markdown",
   "metadata": {},
   "source": [
    "But statements which are contained within ( ), [ ] or { } brackets can be continued without using line continuation (  \\  ) character. For example -"
   ]
  },
  {
   "cell_type": "code",
   "execution_count": null,
   "metadata": {},
   "outputs": [],
   "source": [
    "Months = [\"January\", \"February\", \"March\", \"April\",\n",
    "           \"May\", \"June\", \"July\", \"August\",\n",
    "            \"September\", \"October\", \"November\", \"December\"]"
   ]
  },
  {
   "cell_type": "markdown",
   "metadata": {},
   "source": [
    "### Multiple Statements in a Single Line\n",
    "In python, we can also write multiple statements in a single line using <b>;</b> as a separator. For example - "
   ]
  },
  {
   "cell_type": "code",
   "execution_count": 1,
   "metadata": {},
   "outputs": [
    {
     "name": "stdout",
     "output_type": "stream",
     "text": [
      "Hello\n"
     ]
    }
   ],
   "source": [
    "state = \"Hello\"; print(state)"
   ]
  },
  {
   "cell_type": "code",
   "execution_count": 4,
   "metadata": {},
   "outputs": [
    {
     "name": "stdout",
     "output_type": "stream",
     "text": [
      "a is less than b\n"
     ]
    }
   ],
   "source": [
    "a = 3; b = 9\n",
    "if a < b: print(\"a is less than b\")"
   ]
  },
  {
   "cell_type": "markdown",
   "metadata": {},
   "source": [
    "#### String Python Statements\n",
    "In python, a string can be declared using single or double quotes. For Example -"
   ]
  },
  {
   "cell_type": "code",
   "execution_count": 7,
   "metadata": {},
   "outputs": [
    {
     "data": {
      "text/plain": [
       "\"Welcome to learn 'python'\""
      ]
     },
     "execution_count": 7,
     "metadata": {},
     "output_type": "execute_result"
    }
   ],
   "source": [
    "\"Welcome to learn 'python'\""
   ]
  },
  {
   "cell_type": "code",
   "execution_count": 2,
   "metadata": {},
   "outputs": [
    {
     "data": {
      "text/plain": [
       "\"This is a 'string'\""
      ]
     },
     "execution_count": 2,
     "metadata": {},
     "output_type": "execute_result"
    }
   ],
   "source": [
    "\"This is a 'string'\""
   ]
  },
  {
   "cell_type": "markdown",
   "metadata": {},
   "source": [
    "If we use single quote inside a double quote the string will contain the single quotes as shown in the above example."
   ]
  },
  {
   "cell_type": "markdown",
   "metadata": {},
   "source": [
    "### Indentation\n",
    "Like other programming languages C, C++, Java,etc Python do not use curly braces ( { } ) to define a block of statements such as class and function definitions or flow control mechanism. Blocks in python are denoted by line indentation which is strictly followed. <br>\n",
    "The number of spaces for indentation is not defined but a block should be indented using same number of spaces and using of tab is discouraged. For example - "
   ]
  },
  {
   "cell_type": "code",
   "execution_count": 1,
   "metadata": {},
   "outputs": [
    {
     "name": "stdout",
     "output_type": "stream",
     "text": [
      "True\n"
     ]
    }
   ],
   "source": [
    "if True :\n",
    "    print(\"True\")\n",
    "else :\n",
    "    print(\"False\") "
   ]
  },
  {
   "cell_type": "markdown",
   "metadata": {},
   "source": [
    "### Comments in Python\n",
    "\n",
    "Comments can be used to increase readability of a program. Comments are useful to describe the concepts of a program so that user can understand working of the program easily. <br>\n",
    "In python ( # ) symbol is used to start writing a comment. Comments are for programmers to understand the program better. Python interpreter ignores comments."
   ]
  },
  {
   "cell_type": "code",
   "execution_count": 4,
   "metadata": {},
   "outputs": [
    {
     "name": "stdout",
     "output_type": "stream",
     "text": [
      "Hello World!!\n"
     ]
    }
   ],
   "source": [
    "#This is a comment\n",
    "print(\"Hello World!!\") #This is a print statement"
   ]
  },
  {
   "cell_type": "markdown",
   "metadata": {},
   "source": [
    "### MultiLine Comments\n",
    "In python, comments can be written in multiple line in two ways. One is using # in every line and another is using triple quotes ( ''' ) or &nbsp; &nbsp; ( \"\"\" ). Triple quotes are generally used for multi-line strings but they can also be used for multi-line comments. "
   ]
  },
  {
   "cell_type": "code",
   "execution_count": 5,
   "metadata": {},
   "outputs": [
    {
     "name": "stdout",
     "output_type": "stream",
     "text": [
      "Hi\n"
     ]
    }
   ],
   "source": [
    "'''\n",
    "This is a \n",
    "multi-line comment\n",
    "'''\n",
    "print(\"Hi\")\n",
    "# This is also\n",
    "# a multi-line\n",
    "# comment"
   ]
  },
  {
   "cell_type": "markdown",
   "metadata": {},
   "source": [
    "In this tutorial, we have discussed about statements in python, importance of indentation in python and comments in python."
   ]
  }
 ],
 "metadata": {
  "kernelspec": {
   "display_name": "Python 3 (ipykernel)",
   "language": "python",
   "name": "python3"
  },
  "language_info": {
   "codemirror_mode": {
    "name": "ipython",
    "version": 3
   },
   "file_extension": ".py",
   "mimetype": "text/x-python",
   "name": "python",
   "nbconvert_exporter": "python",
   "pygments_lexer": "ipython3",
   "version": "3.7.3"
  }
 },
 "nbformat": 4,
 "nbformat_minor": 2
}
