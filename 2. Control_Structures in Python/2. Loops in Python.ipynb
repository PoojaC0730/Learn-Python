{
 "cells": [
  {
   "cell_type": "markdown",
   "metadata": {},
   "source": [
    "In this tutorial, I am going to discuss about For loops in python. I am going to discuss about how to use for loops with examples, the range function which will be helpful while working with the loops.\n",
    "\n",
    "## Loops in Python\n",
    "In general, statements in a program are executed sequentially: first statement followed by second and so on. But there may be a situation when we need to execute a block of statements multiple number of times.  <br>\n",
    "Python language provides various complex control structures for handling such situations. <br>\n",
    "An iteration statement or repeat statements are used to execute a block of statements multiple number of times. These are also called as looping statements. Python programming language has the following type of looping statements: \n",
    "<br>\n",
    "- Counting Loops: The loops that repeats a block of statements multiple number of times. Python's **for** loop is a counting loop. <br>\n",
    "- Conditional Loops: The loops that repeat a block of statements until a certain condition evaluates to be True. Python's **while** loop is a conditional loop.\n",
    "<br> Let's  learn about the **for loop**."
   ]
  },
  {
   "cell_type": "markdown",
   "metadata": {},
   "source": [
    "### For Loop\n",
    "A for loop executes the block of statements within the loop multiple number of times. It is also used to iterate through sequence like string, lists, tuples and other  iterable type of objects. Iterating over a sequence is also known as traversal. <br>\n",
    "Syntax of for loop:"
   ]
  },
  {
   "cell_type": "code",
   "execution_count": null,
   "metadata": {},
   "outputs": [],
   "source": [
    "for <target> in <sequence>:\n",
    "    # Block of statements to repeat"
   ]
  },
  {
   "cell_type": "markdown",
   "metadata": {},
   "source": [
    "Here target is a variable which is assigned items in sequence one by one and executes the block of statements in loop body for each value in the sequence. The for loop runs until it runs for last item in the sequence. Body of the for loop is a block of statements which generally contains manipulation using target variable and is separated from rest of the code using indentation. <br>\n",
    "Consider the below example:"
   ]
  },
  {
   "cell_type": "code",
   "execution_count": 2,
   "metadata": {},
   "outputs": [
    {
     "name": "stdout",
     "output_type": "stream",
     "text": [
      "value =  2\n",
      "square of value =  4\n",
      "value =  4\n",
      "square of value =  16\n",
      "value =  6\n",
      "square of value =  36\n",
      "value =  8\n",
      "square of value =  64\n"
     ]
    }
   ],
   "source": [
    "list1 = [2,4,6,8]\n",
    "for val in list1:\n",
    "    print(\"value = \", val)\n",
    "    print(\"square of value = \", val * val)"
   ]
  },
  {
   "cell_type": "markdown",
   "metadata": {},
   "source": [
    "As we can see in the above example, both print statements inside the for loop block are executed for each element of the list. This is known as iterating or traversing through the list. A for loop can also be used for traversing through a string or a tuple.<br> Notice that we have not defined *val* variable also known as loop variable before it is used in the for loop. The loop variable need not be predefined to use it in for loop. <br>\n",
    "Take a look at examples below :\n",
    "\n",
    "Example 1 :"
   ]
  },
  {
   "cell_type": "code",
   "execution_count": 7,
   "metadata": {},
   "outputs": [
    {
     "name": "stdout",
     "output_type": "stream",
     "text": [
      "number of a in line :  5\n",
      "number of space in line :  7\n"
     ]
    }
   ],
   "source": [
    "line = \"I am here to learn python programming language\"\n",
    "count1 = count2 = 0\n",
    "for ch in line:\n",
    "    if(ch==\"a\"):\n",
    "        count1+=1   #increments count1 variable each time a is encountered\n",
    "    elif(ch==\" \"): \n",
    "        count2+=1   #increments count2 variable each time space is encountered\n",
    "print(\"number of a in line : \",count1) \n",
    "print(\"number of space in line : \",count2)"
   ]
  },
  {
   "cell_type": "markdown",
   "metadata": {},
   "source": [
    "In the above example, for loop is used to count the number of occurences of character 'a' and space by iterating or traversing through the string named line.\n",
    "\n",
    "Example2 :"
   ]
  },
  {
   "cell_type": "code",
   "execution_count": 10,
   "metadata": {},
   "outputs": [
    {
     "name": "stdout",
     "output_type": "stream",
     "text": [
      "Learning is fun "
     ]
    }
   ],
   "source": [
    "tuple1 = (\"Learning\", \"is\", \"fun\")\n",
    "for tup in tuple1:\n",
    "    print(tup, end=' ')"
   ]
  },
  {
   "cell_type": "markdown",
   "metadata": {},
   "source": [
    "The above example shows the use of for loop to print out the elements if a tuple datatype which is similar as it is used for a list.  \n",
    "\n",
    "#### The range function\n",
    "\n",
    "Now suppose we want to print all even numbers from 0 up to 50, using the simple technique we will need to create a list of all the even numbers from 0 to 50. For such cases python provides a special function called `range()`. <br>\n",
    "The code : `range(10)` will generate numbers 0 to 9 (total 10 numbers). To generate a list of numbers from a particular number up to another number the following syntax of range is used.\n",
    "\n",
    "Syntax of `range()`:"
   ]
  },
  {
   "cell_type": "code",
   "execution_count": null,
   "metadata": {},
   "outputs": [],
   "source": [
    "range(start, stop, step_size)"
   ]
  },
  {
   "cell_type": "markdown",
   "metadata": {},
   "source": [
    "Here start defines the value from which the list starts generating and stop defines the last value up to which it should be generated. Step size is used to define the size of step (or addition) after each value of the list is generated. This is 1 by default i.e. it increments the value by 1 which can be changed by specifying a value for step size.\n",
    "\n",
    "Consider the following examples:"
   ]
  },
  {
   "cell_type": "code",
   "execution_count": 13,
   "metadata": {},
   "outputs": [
    {
     "name": "stdout",
     "output_type": "stream",
     "text": [
      "range(0, 5)\n",
      "[0, 1, 2, 3, 4]\n",
      "[9, 8, 7, 6, 5, 4, 3]\n",
      "[0, 2, 4, 6, 8, 10, 12, 14, 16, 18, 20, 22, 24, 26, 28, 30, 32, 34, 36, 38, 40, 42, 44, 46, 48]\n"
     ]
    }
   ],
   "source": [
    "print(range(5))\n",
    "print(list(range(5)))\n",
    "print(list(range(9,2,-1)))\n",
    "print(list(range(0,50,2)))"
   ]
  },
  {
   "cell_type": "markdown",
   "metadata": {},
   "source": [
    "Notice in the above example, we have used `list()` function to convert the output of `range()` into a list which is then shown in the output. This is because `range()` does not store the values in memory that is the reason the 1st print statement has not print the list from 0 to 5 built instead just shown the `range()` in its basic syntax. <br> \n",
    "This `range()` function is used in for loop to iterate through a sequence of numbers or repeat a block of statements given number of times. Below are some examples :"
   ]
  },
  {
   "cell_type": "code",
   "execution_count": 15,
   "metadata": {},
   "outputs": [
    {
     "name": "stdout",
     "output_type": "stream",
     "text": [
      "0 1 2 3 4 "
     ]
    }
   ],
   "source": [
    "for i in range(5):\n",
    "    print(i, end=' ')  #end = ' ' is used to print the values in a single line"
   ]
  },
  {
   "cell_type": "code",
   "execution_count": 17,
   "metadata": {},
   "outputs": [
    {
     "name": "stdout",
     "output_type": "stream",
     "text": [
      "5  :  25\n",
      "4  :  16\n",
      "3  :  9\n",
      "2  :  4\n",
      "1  :  1\n"
     ]
    }
   ],
   "source": [
    "for i in range(5,0,-1):\n",
    "    print(i,' : ', i*i)"
   ]
  },
  {
   "cell_type": "code",
   "execution_count": 18,
   "metadata": {},
   "outputs": [
    {
     "name": "stdout",
     "output_type": "stream",
     "text": [
      "10 20 30 40 "
     ]
    }
   ],
   "source": [
    "list1 = [10,20,30,40]\n",
    "for i in range(len(list1)):  #len(list1) provides the length of list1 to range function.\n",
    "    print(list1[i], end= ' ')"
   ]
  },
  {
   "cell_type": "markdown",
   "metadata": {},
   "source": [
    "### While Loop\n",
    "\n",
    "We have discussed about how for loop is used to repeat a certain block of statements given number of times. But what if we don't know how many times should the block of statements run ?  In that case **while** loop is used. A while loop always checks a predefined condition before executing the block of statements.\n",
    "\n",
    "A while loop is a conditional loop that will repeat the block of statements as long as the test condition evaluates to be True. <br> The general syntax of while loop is :"
   ]
  },
  {
   "cell_type": "code",
   "execution_count": null,
   "metadata": {},
   "outputs": [],
   "source": [
    "while logical condition:\n",
    "    #Block of statements to repeat"
   ]
  },
  {
   "cell_type": "markdown",
   "metadata": {},
   "source": [
    "When the program first encounters the while loop, it evaluates the logical condition if it is True then the control passes to the body of the loop. The loop iterates while the logical condition evaluates to True. When the condition becomes False, program control passes to the line after the loop body. The condition is checked after each iteration of the loop. <br>\n",
    "The body of while loop is determined through indentation in python. It starts with indentation and the first unindented line marks the end of loop body.\n",
    "\n",
    "Let's take an example to understand this more clearly: <br>"
   ]
  },
  {
   "cell_type": "code",
   "execution_count": 1,
   "metadata": {},
   "outputs": [
    {
     "name": "stdout",
     "output_type": "stream",
     "text": [
      "a :  5\n",
      "a :  4\n",
      "a :  3\n",
      "a :  2\n",
      "a :  1\n"
     ]
    }
   ],
   "source": [
    "a = 5\n",
    "while a > 0:\n",
    "    print(\"a : \",a)\n",
    "    a = a - 1"
   ]
  },
  {
   "cell_type": "markdown",
   "metadata": {},
   "source": [
    "Let's understand the loop elements of a while loop from the above example.\n",
    "\n",
    "1. Initialization expression : Before entering into the while loop, the loop control variable needs to be initialized first. And an uninitialized variable cannot be used in a while loop. <br>\n",
    "2. Test expression : This is the condition which gets evaluated every time the loop iterates. This expression contains the loop control variable. If the test expression evaluates to True then loop body is executed, otherwise the loop is terminated. <br>\n",
    "3. Body of the Loop : This is the block of statements which we need to repeat whenever the test expression is True. <br>\n",
    "4. Update expression : This expression is used to change/update the value of loop variable. This expression is present inside the body of the loop.\n",
    "\n",
    "Let's look at the example again and define the elements properly. <br> \n",
    "\n",
    "***a = 5***  &nbsp; # This is the initialization expression and *a* is the loop control variable <br>\n",
    "***while a > 0:*** &nbsp; # Here a > 0 is the test expression of the loop <br>\n",
    "&nbsp; &nbsp; ***print(\"a : \",a)*** &nbsp; # This statement forms the body of the loop. <br>\n",
    "&nbsp; &nbsp; ***a -= 1*** &nbsp; # This is the update expression which changes/updates the loop control variable *a* and also forms the body of the loop. <br>\n",
    "\n",
    "NOTE : The loop control variable in while loop needs to be initialized or must have a value before used in the loop. And uninitialized variables cannot be used in the while loop.\n",
    "\n",
    "Let's have a look at another example of while loop:"
   ]
  },
  {
   "cell_type": "code",
   "execution_count": 2,
   "metadata": {},
   "outputs": [
    {
     "name": "stdout",
     "output_type": "stream",
     "text": [
      "Sum = 55\n"
     ]
    }
   ],
   "source": [
    "n = 1\n",
    "sum = 0\n",
    "while n <= 10:\n",
    "    sum = sum + n\n",
    "    n = n + 1\n",
    "print(\"Sum =\",sum)"
   ]
  },
  {
   "cell_type": "markdown",
   "metadata": {},
   "source": [
    "In the above code, we perform addition of numbers from 1 to 10. The test expression (n <= 10 ) will be true until n is less than or equal to 10. Then we change/update the value of n using the update expression. Without this, the code may result into an infinite loop. <br> Finally the result is displayed. "
   ]
  },
  {
   "cell_type": "markdown",
   "metadata": {},
   "source": [
    "In today's tutorial, we have discussed about loops in python. We have seen for loop and while loop in detail. We have also seen the use of range function for generating a sequence of numbers."
   ]
  },
  {
   "cell_type": "code",
   "execution_count": null,
   "metadata": {},
   "outputs": [],
   "source": []
  }
 ],
 "metadata": {
  "kernelspec": {
   "display_name": "Python 3 (ipykernel)",
   "language": "python",
   "name": "python3"
  },
  "language_info": {
   "codemirror_mode": {
    "name": "ipython",
    "version": 3
   },
   "file_extension": ".py",
   "mimetype": "text/x-python",
   "name": "python",
   "nbconvert_exporter": "python",
   "pygments_lexer": "ipython3",
   "version": "3.7.3"
  }
 },
 "nbformat": 4,
 "nbformat_minor": 2
}
