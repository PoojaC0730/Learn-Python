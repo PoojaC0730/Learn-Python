{
 "cells": [
  {
   "cell_type": "markdown",
   "metadata": {},
   "source": [
    "In this tutorial, I am going to discuss about some important python keywords and their use while working with loops in python. These keywords are Break, Continue and Pass. We will also going to discuss about Loop Else statement which can be used as else after execution of a loop.\n",
    "\n",
    "## Break, Continue, Pass And Loop Else \n",
    "\n",
    "We have discussed about three main components of python flow of control namely, if-else statements (conditional statements), for loop and while loop statements (looping statements). Now what if we want to alter the floe of the program based on a certain condition when the loop is iterating ? Python provides different ways to do so in the form of Jump statements (break and continue), pass statement and loop else statement. We are going to look into each of them one by one.\n",
    "\n",
    "### Break and Continue Statements\n",
    "\n",
    "Python provides us with two statements namely **Break** and **Continue**. These are also known as *jump* statements because they are used to jump of the loop iterations and exit the loop. \n",
    "\n",
    "#### Break Statement\n",
    "\n",
    "The break statement is used in a program, to skip over a part of the code. A break statement terminates the loop it lies within. The execution resumes at the statement following the loop.\n",
    "\n",
    "Look at the following ways to use break statement :"
   ]
  },
  {
   "cell_type": "code",
   "execution_count": null,
   "metadata": {},
   "outputs": [],
   "source": [
    "while test condition:\n",
    "    statement1\n",
    "    if condition2 :\n",
    "        break    # break statement\n",
    "    statement2\n",
    "    statement3\n",
    "# the program flow continues from this statement after it encounters the break statement\n",
    "statement4   \n",
    "statement5"
   ]
  },
  {
   "cell_type": "code",
   "execution_count": null,
   "metadata": {},
   "outputs": [],
   "source": [
    "for val in sequence:\n",
    "    statement1\n",
    "    if condition :\n",
    "        break    # break statement\n",
    "    statement2\n",
    "    statement3\n",
    "# the program flow continues from this statement after it encounters the break statement\n",
    "statement4   \n",
    "statement5"
   ]
  },
  {
   "cell_type": "markdown",
   "metadata": {},
   "source": [
    "A loop have two ways to end :\n",
    "\n",
    "1. If the test expression in while loop evaluates to False then it terminates the while loop and the for loop terminates after it is executed for the last value of sequence. This is normal termination.\n",
    "2. If while loop evaluates break statement then it terminates execution even if the test expression is True and the for loop terminates after encountering the break statement even if it has not been executed for every element of the sequence. \n",
    "\n",
    "Let's have a look at some examples :\n",
    "\n",
    "Example 1 :"
   ]
  },
  {
   "cell_type": "code",
   "execution_count": 3,
   "metadata": {},
   "outputs": [
    {
     "name": "stdout",
     "output_type": "stream",
     "text": [
      "0\n",
      "1\n",
      "2\n",
      "3\n",
      "4\n",
      "5\n",
      "6\n",
      "Breaking from while loop\n",
      "While loop ended...\n"
     ]
    }
   ],
   "source": [
    "i = 0\n",
    "while i < 10 :\n",
    "    print(i)\n",
    "    if i == 6:\n",
    "        print(\"Breaking from while loop\")\n",
    "        break\n",
    "    i = i+1\n",
    "print(\"While loop ended...\")"
   ]
  },
  {
   "cell_type": "markdown",
   "metadata": {},
   "source": [
    "The above example shows how a break statement ends the iteration of while loop even if the test expression evaluates to be True and program control is passed on to the next statement after the loop. <br>\n",
    "\n",
    "Example 2 :"
   ]
  },
  {
   "cell_type": "code",
   "execution_count": 4,
   "metadata": {},
   "outputs": [
    {
     "name": "stdout",
     "output_type": "stream",
     "text": [
      "0\n",
      "1\n",
      "2\n",
      "3\n",
      "Breaking from for loop\n",
      "For loop ended...\n"
     ]
    }
   ],
   "source": [
    "for i in [0,1,2,3,4,5]:\n",
    "    print(i)\n",
    "    if i == 3:\n",
    "        print(\"Breaking from for loop\")\n",
    "        break\n",
    "print(\"For loop ended...\")"
   ]
  },
  {
   "cell_type": "markdown",
   "metadata": {},
   "source": [
    "The above example shows how a break statement ends the iteration of for loop even if it is not executed for every value of that sequence and the program control is passed on to the next statement after the loop. <br> \n",
    "\n",
    "Example 3 :"
   ]
  },
  {
   "cell_type": "code",
   "execution_count": 5,
   "metadata": {},
   "outputs": [
    {
     "name": "stdout",
     "output_type": "stream",
     "text": [
      "Enter temperature in celsius(-1000 to terminate) : 25\n",
      "25  celsius is equal to  77.0  Farenheit\n",
      "Enter temperature in celsius(-1000 to terminate) : 76\n",
      "76  celsius is equal to  168.8  Farenheit\n",
      "Enter temperature in celsius(-1000 to terminate) : -1000\n",
      "Loop terminanted ...\n",
      "Thankyou !!!\n"
     ]
    }
   ],
   "source": [
    "while True:  # this way while loop runs infinitely\n",
    "    temp = eval(input(\"Enter temperature in celsius(-1000 to terminate) : \"))\n",
    "    if temp == -1000:\n",
    "        print(\"Loop terminanted ...\")\n",
    "        break\n",
    "    print(temp,\" celsius is equal to \",9/5*temp+32,\" Farenheit\")\n",
    "print(\"Thankyou !!!\")"
   ]
  },
  {
   "cell_type": "markdown",
   "metadata": {},
   "source": [
    "In the above example we let the user enter temperature in Celsius and convert it into Fahrenheit. Notice that it is an infinite loop which only gets terminated of we enter -1000 as written in the condition which leads to break statement. \n",
    "\n",
    "#### Continue Statement\n",
    "\n",
    "Continue statement works similar to break the difference is that break terminates the loop completely whereas the continue statement only terminates the current iteration. Once encountered the continue statement skips rest of the statements and forces the next iteration of the loop to take place. \n",
    "\n",
    "Look at the following ways to use continue statement :"
   ]
  },
  {
   "cell_type": "code",
   "execution_count": null,
   "metadata": {},
   "outputs": [],
   "source": [
    "while test condition:  \n",
    "    # the program flow continues from next iteration after it encounters the continue statement\n",
    "    statement1\n",
    "    if condition2 :\n",
    "        continue    #continue statement\n",
    "    statement2\n",
    "    statement3\n",
    "statement4"
   ]
  },
  {
   "cell_type": "code",
   "execution_count": null,
   "metadata": {},
   "outputs": [],
   "source": [
    "for val in sequence:  \n",
    "    # the program flow continues from next iteration after it encounters the continue statement\n",
    "    statement1\n",
    "    if condition :\n",
    "        continue    #continue statement\n",
    "    statement2\n",
    "    statement3\n",
    "statement4  "
   ]
  },
  {
   "cell_type": "markdown",
   "metadata": {},
   "source": [
    "The continue statement is used when we want to skip the loop only for some values and then continue execution of the loop for next values. <br>\n",
    "Let's have a look at some examples : \n",
    "\n",
    "Example 1 :"
   ]
  },
  {
   "cell_type": "code",
   "execution_count": 6,
   "metadata": {},
   "outputs": [
    {
     "name": "stdout",
     "output_type": "stream",
     "text": [
      "2 4 6 8 10 \n",
      "End of loop\n"
     ]
    }
   ],
   "source": [
    "x = 0\n",
    "while x <= 10:\n",
    "    x = x + 1\n",
    "    if (x%2 != 0) :\n",
    "        continue\n",
    "    print(x,end = ' ')\n",
    "        \n",
    "print(\"\\nEnd of loop\")"
   ]
  },
  {
   "cell_type": "markdown",
   "metadata": {},
   "source": [
    "In the above code, we skip the odd values using continue statement and print the even numbers. Note that we have put the update expression (*x = x+1*) before the condition of continue statement so that the loop will execute properly. <br>\n",
    "\n",
    "Example 2 :"
   ]
  },
  {
   "cell_type": "code",
   "execution_count": 7,
   "metadata": {},
   "outputs": [
    {
     "name": "stdout",
     "output_type": "stream",
     "text": [
      "0 1 3 5 6 7 8 9 "
     ]
    }
   ],
   "source": [
    "for i in range(10):\n",
    "    if i == 2 or i == 4:\n",
    "        continue\n",
    "    print(i, end = ' ')"
   ]
  },
  {
   "cell_type": "markdown",
   "metadata": {},
   "source": [
    "In the above code, we skip the for loop when *i* has value 2 or 4 and the loop executes normally for rest of the values.\n",
    "\n",
    "### Pass Statement\n",
    "\n",
    "The pass statement in python is a non-operative placeholder which is generally used when the syntax requires a statement, but we have nothing to write. <br> When we want to code an infinite loop which does nothing this *pass* statement can be used as a placeholder in place of loop body as follows:"
   ]
  },
  {
   "cell_type": "code",
   "execution_count": null,
   "metadata": {},
   "outputs": [],
   "source": [
    "while True:\n",
    "    pass"
   ]
  },
  {
   "cell_type": "markdown",
   "metadata": {},
   "source": [
    "Pass statement is also used with functions, classes and other which we will look into later.\n",
    "\n",
    "### Loop Else Statement\n",
    "\n",
    "We have seen the use of else clause in python with if, but it can also be used with looping statements i.e. for and while. The else clause with any loop (for or while) executes only when the loop terminates normally. That means when the test expression evaluates to False in case of while loop or for loop has executed the last value from the sequence but not when *break* statement terminates the loop.\n",
    "\n",
    "Let's see how the syntax and flow of program works."
   ]
  },
  {
   "cell_type": "code",
   "execution_count": null,
   "metadata": {},
   "outputs": [],
   "source": [
    "for val in sequence:\n",
    "    #block of statements\n",
    "else:        #executes when for loop executes for all values in sequence.\n",
    "    statement1\n",
    "statement2"
   ]
  },
  {
   "cell_type": "code",
   "execution_count": null,
   "metadata": {},
   "outputs": [],
   "source": [
    "while test condition:\n",
    "    #block of statements\n",
    "else:       #executes when test condition evaluates to be False.\n",
    "    statement1\n",
    "statement2"
   ]
  },
  {
   "cell_type": "markdown",
   "metadata": {},
   "source": [
    "Let's have a look at some examples : <br>\n",
    "\n",
    "Example 1 :"
   ]
  },
  {
   "cell_type": "code",
   "execution_count": 2,
   "metadata": {},
   "outputs": [
    {
     "name": "stdout",
     "output_type": "stream",
     "text": [
      "Element is :  1\n",
      "Element is :  2\n",
      "Element is :  3\n",
      "Element is :  4\n",
      "Loop terminated successfully...\n"
     ]
    }
   ],
   "source": [
    "for i in [1,2,3,4] :\n",
    "    print(\"Element is : \",i)\n",
    "else:\n",
    "    print(\"Loop terminated successfully...\")   "
   ]
  },
  {
   "cell_type": "markdown",
   "metadata": {},
   "source": [
    "Note that the for loop executes for every value of the sequence and terminates properly then the else block is executed. \n",
    "\n",
    "Example 2 :"
   ]
  },
  {
   "cell_type": "code",
   "execution_count": 8,
   "metadata": {},
   "outputs": [
    {
     "name": "stdout",
     "output_type": "stream",
     "text": [
      "Element =  0\n",
      "Element =  1\n",
      "Element =  2\n",
      "Element =  3\n",
      "Element =  4\n",
      "Loop terminated successfully...\n"
     ]
    }
   ],
   "source": [
    "a = 0\n",
    "while a < 5:\n",
    "    print(\"Element = \", a)\n",
    "    a = a + 1\n",
    "else:\n",
    "    print(\"Loop terminated successfully...\")"
   ]
  },
  {
   "cell_type": "markdown",
   "metadata": {},
   "source": [
    "Similar to the for loop the while loop executes until the test condition evaluates to be False, after that the else block is executed.\n",
    "\n",
    "In today's tutorial, we have discussed about break, continue and pass keywords and their use with the loop statements in python.We have also seen the use of loop else statement with for and while loops in python."
   ]
  }
 ],
 "metadata": {
  "kernelspec": {
   "display_name": "Python 3 (ipykernel)",
   "language": "python",
   "name": "python3"
  },
  "language_info": {
   "codemirror_mode": {
    "name": "ipython",
    "version": 3
   },
   "file_extension": ".py",
   "mimetype": "text/x-python",
   "name": "python",
   "nbconvert_exporter": "python",
   "pygments_lexer": "ipython3",
   "version": "3.7.3"
  }
 },
 "nbformat": 4,
 "nbformat_minor": 2
}
