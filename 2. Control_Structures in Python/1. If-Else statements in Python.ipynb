{
 "cells": [
  {
   "cell_type": "markdown",
   "metadata": {},
   "source": [
    "In this tutorial, I am going to discuss about conditional statements in python. Every programming language has a conditional and looping statements which decide the flow of the program. In this tutorial we will discuss about if-else statements and their variations in python.\n",
    "\n",
    "## If-Else Statements in Python\n",
    "So far we have discussed about keywords and identifiers, operators, data types and their inter conversion in python. These are the building blocks of a program. \n",
    "<br> But the main essence of a program depends on logic behind the program. In a program there are some decisions to be made to follow one route or other. This decision making is also called the flow control of a program.\n",
    "\n",
    "### If statement\n",
    "Let's suppose we want to write 'Yes' if user enters 1 and 'No' is user enters any other number, then this requires the program to make a decision either write Yes or No. This can be achieved using an if condition.\n",
    "<br>If condition in python means the same as in simple language, it can simply be translated as \"If this then do that\".\n",
    "\n",
    "Syntax:"
   ]
  },
  {
   "cell_type": "code",
   "execution_count": null,
   "metadata": {},
   "outputs": [],
   "source": [
    "if condition: \n",
    "    #if this condition is met then only the below statement will be executed\n",
    "    statement"
   ]
  },
  {
   "cell_type": "markdown",
   "metadata": {},
   "source": [
    "In python the block is indicated using indentation. Thus the body of if block starts with indentation and ends at the first unindented line. If the condition evaluates to True then it will execute the inner block statements otherwise it will ignore the if condition and continue the program flow.\n",
    "<br> Note that Python interprets all non-zero values as True and None or 0 as False.\n",
    "\n",
    "Let's take some examples to understand more clearly :"
   ]
  },
  {
   "cell_type": "code",
   "execution_count": 1,
   "metadata": {},
   "outputs": [
    {
     "name": "stdout",
     "output_type": "stream",
     "text": [
      "x = 4\n",
      "y is less than x\n",
      "next line\n",
      "x\n",
      "Done\n"
     ]
    }
   ],
   "source": [
    "x = 4\n",
    "y = 2\n",
    "if x == 4:\n",
    "    print(\"x = 4\")\n",
    "    \n",
    "if y<x:\n",
    "    print(\"y is less than x\")\n",
    "\n",
    "if x == y:\n",
    "    print(\"x is equal to y\")\n",
    "\n",
    "print('next line')\n",
    "    \n",
    "if x:\n",
    "    print(\"x\")\n",
    "\n",
    "if 0:\n",
    "    print('0')\n",
    "\n",
    "print(\"Done\")"
   ]
  },
  {
   "cell_type": "markdown",
   "metadata": {},
   "source": [
    "When we observe the output, we get to know that when the condition is evaluated to be False then the statement inside the if statement is ignored and program continues from the next line."
   ]
  },
  {
   "cell_type": "markdown",
   "metadata": {},
   "source": [
    "### If-else statement\n",
    "\n",
    "If we want to perform something else if the condition is false. For that python has else statement which is written just \n",
    "after the if block has ended.\n",
    "\n",
    "The syntax for if - else statement is :"
   ]
  },
  {
   "cell_type": "code",
   "execution_count": null,
   "metadata": {},
   "outputs": [],
   "source": [
    "if condition:\n",
    "    statement1\n",
    "else:\n",
    "    statement2"
   ]
  },
  {
   "cell_type": "markdown",
   "metadata": {},
   "source": [
    "We can read the above code as : if condition is True then execute statement1 else execute statement2. <br>\n",
    "For example:"
   ]
  },
  {
   "cell_type": "code",
   "execution_count": 3,
   "metadata": {},
   "outputs": [
    {
     "name": "stdout",
     "output_type": "stream",
     "text": [
      "x greater than 8\n"
     ]
    }
   ],
   "source": [
    "x = 10\n",
    "if x <= 8:\n",
    "    print(\"x is less than or equal to 8\")\n",
    "else:\n",
    "    print(\"x greater than 8\")"
   ]
  },
  {
   "cell_type": "markdown",
   "metadata": {},
   "source": [
    "In the above code we compare the value of variable x with 8 and conclude whether it is less than equal to or grater than 8. <br>\n",
    "In simple language, if x is less than or equal to 8 then print \"x is less than or equal to 8\" else print \"x is greater than 8\".<br> "
   ]
  },
  {
   "cell_type": "markdown",
   "metadata": {},
   "source": [
    "### If-elif-else statement\n",
    "\n",
    "Python also provides us with the if-elif-else statement using which we can evaluate multiple conditions and perform actions based on the condition which is True.\n",
    "\n",
    "Syntax is as follows:"
   ]
  },
  {
   "cell_type": "code",
   "execution_count": null,
   "metadata": {},
   "outputs": [],
   "source": [
    "if condition1:\n",
    "    statement1\n",
    "elif condition2:\n",
    "    statement2\n",
    "else:\n",
    "    statement3"
   ]
  },
  {
   "cell_type": "markdown",
   "metadata": {},
   "source": [
    "The above code says that if condition1 is True the execute statement1 else if condition2 is True then execute statement2 else execute statement3.\n",
    "\n",
    "Example of if-elif-else block:"
   ]
  },
  {
   "cell_type": "code",
   "execution_count": 4,
   "metadata": {},
   "outputs": [
    {
     "name": "stdout",
     "output_type": "stream",
     "text": [
      "y is greater than 5\n"
     ]
    }
   ],
   "source": [
    "y = 10\n",
    "if y < 5:\n",
    "    print(\"y is less than 5\")\n",
    "elif y == 5:\n",
    "    print(\"y is equal to 5\")\n",
    "else:\n",
    "    print(\"y is greater than 5\")"
   ]
  },
  {
   "cell_type": "markdown",
   "metadata": {},
   "source": [
    "In the above code, the value of variable y is compared to 5 and it concludes whether y is less than 5, equal to 5 or greater than 5. "
   ]
  },
  {
   "cell_type": "markdown",
   "metadata": {},
   "source": [
    "### Nested If Statement\n",
    "\n",
    "We can have an if-elif-else statement inside another if-elif-else statement. This is called as nesting in programming language. <br> Any number of these statements can be nested inside one another. To figure out the level of nesting only indentation is used as it differentiates the if-elif-else blocks."
   ]
  },
  {
   "cell_type": "code",
   "execution_count": null,
   "metadata": {},
   "outputs": [],
   "source": [
    "if condition1:\n",
    "    if condition2:\n",
    "        statement1\n",
    "    else:\n",
    "        statement2\n",
    "else:\n",
    "    statement3"
   ]
  },
  {
   "cell_type": "markdown",
   "metadata": {},
   "source": [
    "In the above code, when condition1 evaluates to True then it checks condition2 if it is True then statement1 is executed otherwise statement2 is executed. But when condition1 evaluates to False then it goes to else and statement3 is executed. \n",
    "\n",
    "Example of nested if statements: "
   ]
  },
  {
   "cell_type": "code",
   "execution_count": 2,
   "metadata": {},
   "outputs": [
    {
     "name": "stdout",
     "output_type": "stream",
     "text": [
      "Number is equal to zero\n"
     ]
    }
   ],
   "source": [
    "num = 0\n",
    "if num >= 0:\n",
    "    if num == 0:\n",
    "        print(\"Number is equal to zero\")\n",
    "    else:\n",
    "        print(\"Number is a positive number\")\n",
    "else:\n",
    "    print(\"Number is a negative number\")"
   ]
  },
  {
   "cell_type": "markdown",
   "metadata": {},
   "source": [
    "In the above code, we check whether the number stored in variable *num* is negative, zero or positive using nested if-else statements.\n",
    "\n",
    "In today's tutorial we have discussed about if statement, if-else statement, if-elif-else statement and nested if-else statements with examples. These all statements are known as conditional statements which decide the flow of control of our python program."
   ]
  },
  {
   "cell_type": "code",
   "execution_count": null,
   "metadata": {},
   "outputs": [],
   "source": []
  }
 ],
 "metadata": {
  "kernelspec": {
   "display_name": "Python 3 (ipykernel)",
   "language": "python",
   "name": "python3"
  },
  "language_info": {
   "codemirror_mode": {
    "name": "ipython",
    "version": 3
   },
   "file_extension": ".py",
   "mimetype": "text/x-python",
   "name": "python",
   "nbconvert_exporter": "python",
   "pygments_lexer": "ipython3",
   "version": "3.7.3"
  }
 },
 "nbformat": 4,
 "nbformat_minor": 2
}
