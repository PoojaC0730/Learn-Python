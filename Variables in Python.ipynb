{
 "cells": [
  {
   "cell_type": "markdown",
   "metadata": {},
   "source": [
    "In this tutorial, we are going to discuss about variables and expressions in python.\n",
    "\n",
    "## Variables in Python\n",
    "\n",
    "A variable in python is a named location which refers to a value and these values can be used and processed during program run. A variable is not created in python until some value is assigned to it.<br>\n",
    "For instance, the given statement creates a variable named 'users' of numeric type."
   ]
  },
  {
   "cell_type": "code",
   "execution_count": null,
   "metadata": {},
   "outputs": [],
   "source": [
    "users = 6\n",
    "user_name = 'user@1'"
   ]
  },
  {
   "cell_type": "markdown",
   "metadata": {},
   "source": [
    "Python variables are created by assigning the value of desired type to them. Like in the above statements a numeric value is assigned to 'users' making it a numeric variable and a string is assigned to 'user_name' making it a string variable.\n",
    "\n",
    "### Lvalues and Rvalues \n",
    "<b>Lvalues</b> are the objects to which you can assign a value or expression. Lvalues can come on LHS or RHS side of an assignment statement. <br><br>\n",
    "<b>Rvalues</b> are the literals and expressions that are assigned to lvalues. Rvalues can come on RHS of an assignment statement. <br>\n",
    "For example: "
   ]
  },
  {
   "cell_type": "code",
   "execution_count": 1,
   "metadata": {},
   "outputs": [],
   "source": [
    "a = 20  #here a is Lvalue and 20 is Rvalue\n",
    "b = a + 10  #here b and a are Lvalue and 10 is Rvalue."
   ]
  },
  {
   "cell_type": "markdown",
   "metadata": {},
   "source": [
    "### Multiple Assignments\n",
    "Python is a versatile language, there are many different ways in which you can assign values to variables. \n",
    "\n",
    "#### 1. Same value to Multiple variables :\n",
    "Multiple variables can be assigned same value in a single statement."
   ]
  },
  {
   "cell_type": "code",
   "execution_count": 2,
   "metadata": {},
   "outputs": [
    {
     "name": "stdout",
     "output_type": "stream",
     "text": [
      "a = 50  b = 50  c = 50\n"
     ]
    }
   ],
   "source": [
    "a = b = c = 50\n",
    "print(\"a =\",a,\" b =\",b,\" c =\",c)"
   ]
  },
  {
   "cell_type": "markdown",
   "metadata": {},
   "source": [
    "This statement assigns the value 50 to all three variables a,b and c. \n",
    "\n",
    "#### 2. Multiple values to Multiple variables :\n",
    "In python, you can assign multiple values to multiple variables in a single statement.\n"
   ]
  },
  {
   "cell_type": "code",
   "execution_count": 4,
   "metadata": {},
   "outputs": [
    {
     "name": "stdout",
     "output_type": "stream",
     "text": [
      "x = 10  y = 11  z = 12\n"
     ]
    }
   ],
   "source": [
    "x, y, z = 10, 11, 12\n",
    "print(\"x =\",x,\" y =\",y,\" z =\",z)\n"
   ]
  },
  {
   "cell_type": "markdown",
   "metadata": {},
   "source": [
    "The above statement assigns the value order wise i.e. first variable is given first value, second variable is given second value and so on. \n",
    "\n",
    "### Dynamic Typing\n",
    "A variable pointing to a value of a certain type, can be made to point to a value/object of different type. This is called dynamic typing. <br> \n",
    "For example:"
   ]
  },
  {
   "cell_type": "code",
   "execution_count": 5,
   "metadata": {},
   "outputs": [
    {
     "name": "stdout",
     "output_type": "stream",
     "text": [
      "x = 10\n",
      "x = Hello\n"
     ]
    }
   ],
   "source": [
    "x = 10\n",
    "print(\"x =\",x)\n",
    "x = \"Hello\"\n",
    "print(\"x =\",x)"
   ]
  },
  {
   "cell_type": "markdown",
   "metadata": {},
   "source": [
    "So, we can think of a python variable as labels associated with objects(or values). With dynamic typing python makes the label refer to new object(or value). <br> Although python makes it easier for changing types of a variable, we should be more cautious while using such variables in our program as it can result in error while performing operations on the variable as some operations are only possible for certain data types. Let's have a look at such an example :"
   ]
  },
  {
   "cell_type": "code",
   "execution_count": 6,
   "metadata": {},
   "outputs": [
    {
     "ename": "TypeError",
     "evalue": "unsupported operand type(s) for /: 'str' and 'int'",
     "output_type": "error",
     "traceback": [
      "\u001b[1;31m---------------------------------------------------------------------------\u001b[0m",
      "\u001b[1;31mTypeError\u001b[0m                                 Traceback (most recent call last)",
      "\u001b[1;32m<ipython-input-6-5603500242c7>\u001b[0m in \u001b[0;36m<module>\u001b[1;34m\u001b[0m\n\u001b[0;32m      3\u001b[0m \u001b[0my\u001b[0m \u001b[1;33m=\u001b[0m \u001b[0mx\u001b[0m \u001b[1;33m/\u001b[0m \u001b[1;36m2\u001b[0m\u001b[1;33m\u001b[0m\u001b[1;33m\u001b[0m\u001b[0m\n\u001b[0;32m      4\u001b[0m \u001b[0mx\u001b[0m \u001b[1;33m=\u001b[0m \u001b[1;34m'day'\u001b[0m\u001b[1;33m\u001b[0m\u001b[1;33m\u001b[0m\u001b[0m\n\u001b[1;32m----> 5\u001b[1;33m \u001b[0my\u001b[0m \u001b[1;33m=\u001b[0m \u001b[0mx\u001b[0m \u001b[1;33m/\u001b[0m \u001b[1;36m5\u001b[0m\u001b[1;33m\u001b[0m\u001b[1;33m\u001b[0m\u001b[0m\n\u001b[0m",
      "\u001b[1;31mTypeError\u001b[0m: unsupported operand type(s) for /: 'str' and 'int'"
     ]
    }
   ],
   "source": [
    "x = 10\n",
    "y = 0\n",
    "y = x / 2\n",
    "x = 'day'\n",
    "y = x / 5"
   ]
  },
  {
   "cell_type": "markdown",
   "metadata": {},
   "source": [
    "As we can see using a different data type can result in errors. So programmers need to make sure that variables of right type should be used in correct expressions.\n",
    "\n",
    "## Expressions in Python\n",
    "In python, an expression is any valid combination of variables, constants, literals and operators. It performs one or more operations \n",
    "with one or more operators, variables and literals. <br> The type of operators and operands in the expression determines the type of expression. There are different types of expressions in Python like : *arithmetic expressions*, *string expressions*, *relational expressions*, *logical expressions* and *compound expressions*. Let's learn about these one by one. \n",
    "\n",
    "1. Arithmetic Expressions : Arithmetic expressions involve numbers (integers, floating-point numbers or complex numbers) and arithmetic operators. <br> &nbsp; &nbsp; For example : a = 2+4, b = 8.4 - 4.5 etc.<br> <br>\n",
    "2. Relational Expressions : An expression which have literals and/or variables of valid type and relational operators is a relational expression. <br> &nbsp;&nbsp; For example : a > b, c <= d, x == y etc. <br> <br>\n",
    "3. Logical Expressions : An expression which have literals and/or variables of valid type and logical operators is a logical expression. <br> &nbsp;&nbsp; For example : a and b, c or d, x and not y etc. <br> <br>\n",
    "4. String Expresions : In python, we also have two operators + and \\* which when used with string operands form string expressions. <br> &nbsp;&nbsp; For example: \"for\"+\"them\" beacomes \"forthem\" (concatenation operation) and \"hi\"\\*2 becomes \"hihi\"(replication operation). <br> <br>\n",
    "5. Compound Expressions : If an expression involves multiple types of operators then it is called a compound expression. <br> &nbsp; &nbsp; For example a+b < c\\*\\*d is a compound expression as it involves *arithmetic operators* as well as *relational operators*.  <br> <br> \n",
    "You will learn about expression evaluation when we will discuss about different types of operators avaiable in python language.  <br>\n",
    "\n",
    "In this tutorial, we have learnt about Variables in python, assigning values to variable in different ways, dynamic typing, Expressions in python and their types."
   ]
  }
 ],
 "metadata": {
  "kernelspec": {
   "display_name": "Python 3 (ipykernel)",
   "language": "python",
   "name": "python3"
  },
  "language_info": {
   "codemirror_mode": {
    "name": "ipython",
    "version": 3
   },
   "file_extension": ".py",
   "mimetype": "text/x-python",
   "name": "python",
   "nbconvert_exporter": "python",
   "pygments_lexer": "ipython3",
   "version": "3.7.3"
  }
 },
 "nbformat": 4,
 "nbformat_minor": 2
}
