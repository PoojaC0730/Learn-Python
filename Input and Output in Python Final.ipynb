{
 "cells": [
  {
   "cell_type": "markdown",
   "metadata": {
    "slideshow": {
     "slide_type": "slide"
    }
   },
   "source": [
    "In this tutorial we will discuss about how to take input and show output in python. In a program taking an input from the user ensures that user is able to use the program as per their need. And giving the output in proper format helps user to understand the output and usage of the program.\n",
    "We will also look at an important keyword <b>import</b> which will be helpful to maintain modularity of a program.\n",
    "\n",
    "## Python Input\n",
    "For a program to be more flexible and user-friendly we need to take input from the users and be able to manipulate them. To take input from user we have input() function in python.<br>Following is the basic syntax of input() function."
   ]
  },
  {
   "cell_type": "code",
   "execution_count": null,
   "metadata": {
    "slideshow": {
     "slide_type": "slide"
    }
   },
   "outputs": [],
   "source": [
    "input([prompt])"
   ]
  },
  {
   "cell_type": "markdown",
   "metadata": {
    "slideshow": {
     "slide_type": "subslide"
    }
   },
   "source": [
    "where, prompt is the message we wish to display while taking the input. It is optional."
   ]
  },
  {
   "cell_type": "code",
   "execution_count": 1,
   "metadata": {
    "slideshow": {
     "slide_type": "slide"
    }
   },
   "outputs": [
    {
     "name": "stdout",
     "output_type": "stream",
     "text": [
      "Enter a value 46\n"
     ]
    }
   ],
   "source": [
    "value=input(\"Enter a value \")"
   ]
  },
  {
   "cell_type": "code",
   "execution_count": 2,
   "metadata": {
    "slideshow": {
     "slide_type": "slide"
    }
   },
   "outputs": [
    {
     "name": "stdout",
     "output_type": "stream",
     "text": [
      "46 <class 'str'>\n"
     ]
    }
   ],
   "source": [
    "print(value, type(value))"
   ]
  },
  {
   "cell_type": "markdown",
   "metadata": {
    "slideshow": {
     "slide_type": "slide"
    }
   },
   "source": [
    "As we can see, the entered value is 46 but is a string and not a number. So, we need to convert this into number for which we can use int( ) or float( ) functions. These functions are used for data-type conversion, we will learn them later in-depth."
   ]
  },
  {
   "cell_type": "code",
   "execution_count": 3,
   "metadata": {
    "slideshow": {
     "slide_type": "slide"
    }
   },
   "outputs": [
    {
     "name": "stdout",
     "output_type": "stream",
     "text": [
      "46 <class 'int'>\n"
     ]
    }
   ],
   "source": [
    "val1=int(value)\n",
    "print(val1, type(val1))"
   ]
  },
  {
   "cell_type": "code",
   "execution_count": 4,
   "metadata": {
    "slideshow": {
     "slide_type": "slide"
    }
   },
   "outputs": [
    {
     "name": "stdout",
     "output_type": "stream",
     "text": [
      "46.0 <class 'float'>\n"
     ]
    }
   ],
   "source": [
    "val2=float(value)\n",
    "print(val2, type(val2))"
   ]
  },
  {
   "cell_type": "markdown",
   "metadata": {
    "slideshow": {
     "slide_type": "slide"
    }
   },
   "source": [
    "## Output in python\n",
    "In python language to print() function is used to show the output onto a standard output device( screen of computer). The print() function can also be used to send output to a file which we look into later. <br>\n",
    "Let's see some example on how print() function is used."
   ]
  },
  {
   "cell_type": "code",
   "execution_count": 5,
   "metadata": {
    "slideshow": {
     "slide_type": "slide"
    }
   },
   "outputs": [
    {
     "name": "stdout",
     "output_type": "stream",
     "text": [
      "Hello, this sentence is output on the screen \n",
      "The value is 22\n"
     ]
    }
   ],
   "source": [
    "print(\"Hello, this sentence is output on the screen \")  #simple print statement\n",
    "\n",
    "value = 22\n",
    "print(\"The value is\",value)  #this print statememnt prints an argument"
   ]
  },
  {
   "cell_type": "markdown",
   "metadata": {
    "slideshow": {
     "slide_type": "slide"
    }
   },
   "source": [
    "The basic syntax of a print() statement is as shown :"
   ]
  },
  {
   "cell_type": "code",
   "execution_count": null,
   "metadata": {
    "slideshow": {
     "slide_type": "subslide"
    }
   },
   "outputs": [],
   "source": [
    "print(*objects,sep='',end='\\n', file=sys.stdout, flush=False)"
   ]
  },
  {
   "cell_type": "markdown",
   "metadata": {
    "slideshow": {
     "slide_type": "subslide"
    }
   },
   "source": [
    "Here, objects are the values to be printed.<br> The sep is separator between the values(objects) which is space(' ') by default. <br> The end value is printed after all the values(objects) are printed, it is basically the end of a print statement. It has default value of newline('/n').<br> The file is the object where print statement executes and prints the values(objects). It has default value sys.stdout(system screen).<br>\n",
    "Let's see some examples."
   ]
  },
  {
   "cell_type": "code",
   "execution_count": 7,
   "metadata": {
    "slideshow": {
     "slide_type": "slide"
    }
   },
   "outputs": [
    {
     "name": "stdout",
     "output_type": "stream",
     "text": [
      "value1 value2 value3\n",
      "value1@$value2@$value3\n",
      "value1$value2$value3#"
     ]
    }
   ],
   "source": [
    "print('value1', 'value2', 'value3') \n",
    "print('value1', 'value2', 'value3', sep=\"@$\")\n",
    "print('value1', 'value2', 'value3', sep='$', end='#')"
   ]
  },
  {
   "cell_type": "markdown",
   "metadata": {
    "slideshow": {
     "slide_type": "slide"
    }
   },
   "source": [
    "### Formatting output\n",
    "In python, we can format the output as per our need to make it look more attractive. For this we can use str.format() method.\n",
    "This method is visible for any string object."
   ]
  },
  {
   "cell_type": "code",
   "execution_count": 8,
   "metadata": {
    "slideshow": {
     "slide_type": "slide"
    }
   },
   "outputs": [
    {
     "name": "stdout",
     "output_type": "stream",
     "text": [
      "The value of x is 5 and y is 10\n"
     ]
    }
   ],
   "source": [
    "x,y = 5, 10\n",
    "print(\"The value of x is {} and y is {}\".format(x,y))"
   ]
  },
  {
   "cell_type": "markdown",
   "metadata": {
    "slideshow": {
     "slide_type": "slide"
    }
   },
   "source": [
    "The curly braces ( { } ) are called placeholders which specify the position of the values to be formatted. We can also give the order in which values can be printed in an order using numbers."
   ]
  },
  {
   "cell_type": "code",
   "execution_count": 9,
   "metadata": {
    "slideshow": {
     "slide_type": "slide"
    }
   },
   "outputs": [
    {
     "name": "stdout",
     "output_type": "stream",
     "text": [
      "8 is less than 25\n",
      "25 is greater than 8\n"
     ]
    }
   ],
   "source": [
    "a,b = 8,25\n",
    "print(\"{0} is less than {1}\".format(a,b))\n",
    "print(\"{1} is greater than {0}\".format(a,b))"
   ]
  },
  {
   "cell_type": "markdown",
   "metadata": {
    "slideshow": {
     "slide_type": "slide"
    }
   },
   "source": [
    "Keyword arguments can also be used instead of numbers to print values in specific format."
   ]
  },
  {
   "cell_type": "code",
   "execution_count": 10,
   "metadata": {
    "slideshow": {
     "slide_type": "slide"
    }
   },
   "outputs": [
    {
     "name": "stdout",
     "output_type": "stream",
     "text": [
      "Hello Joy, Goodevening\n"
     ]
    }
   ],
   "source": [
    "print(\"Hello {name}, {greeting}\".format(name=\"Joy\", greeting=\"Goodevening\"))"
   ]
  },
  {
   "cell_type": "markdown",
   "metadata": {
    "slideshow": {
     "slide_type": "slide"
    }
   },
   "source": [
    "## Python Import\n",
    "When we have a bigger program, it becomes difficult to handle all the methods. So it will be easy to divide the program in different modules and then use them accordingly.<br> A module is a file containing python statements and definitions with a filename and .py extension. If we wish to use these definitions and statements often in other python programs hen we can import the module required and use them. We use <b> import </b> keyword to do this. <br>\n",
    "For example let's import math module provided by python and see how it works."
   ]
  },
  {
   "cell_type": "code",
   "execution_count": 11,
   "metadata": {
    "slideshow": {
     "slide_type": "slide"
    }
   },
   "outputs": [
    {
     "name": "stdout",
     "output_type": "stream",
     "text": [
      "3.141592653589793\n",
      "8.0\n"
     ]
    }
   ],
   "source": [
    "import math\n",
    "print(math.pi)   #a constant value\n",
    "print(math.pow(2,3))  #a method definition"
   ]
  },
  {
   "cell_type": "markdown",
   "metadata": {
    "slideshow": {
     "slide_type": "slide"
    }
   },
   "source": [
    "So in this way for bigger programs we can create different modules for different functionalities and use them as and when needed. \n",
    "\n",
    "Now, when we use 'import math', all the definitions (variable or methods) are available in our scope. If we want we can also import only specific attributes and methods only using <b> from </b> keyword. For example:"
   ]
  },
  {
   "cell_type": "code",
   "execution_count": 12,
   "metadata": {
    "slideshow": {
     "slide_type": "slide"
    }
   },
   "outputs": [
    {
     "name": "stdout",
     "output_type": "stream",
     "text": [
      "3.141592653589793\n"
     ]
    }
   ],
   "source": [
    "from math import pi\n",
    "print(pi)"
   ]
  },
  {
   "cell_type": "markdown",
   "metadata": {
    "slideshow": {
     "slide_type": "slide"
    }
   },
   "source": [
    "In today's tutorial we have discussed about how to take input from users in python, showing output to users and formatting output to make it more understandable. We have also seen import statement which is used to import different python modules and use them in our python program. <br>"
   ]
  }
 ],
 "metadata": {
  "celltoolbar": "Slideshow",
  "kernelspec": {
   "display_name": "Python 3 (ipykernel)",
   "language": "python",
   "name": "python3"
  },
  "language_info": {
   "codemirror_mode": {
    "name": "ipython",
    "version": 3
   },
   "file_extension": ".py",
   "mimetype": "text/x-python",
   "name": "python",
   "nbconvert_exporter": "python",
   "pygments_lexer": "ipython3",
   "version": "3.7.3"
  }
 },
 "nbformat": 4,
 "nbformat_minor": 2
}
